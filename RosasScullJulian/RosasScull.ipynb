{
 "cells": [
  {
   "cell_type": "markdown",
   "metadata": {},
   "source": [
    "### 1. ¿Qué significa la palabra Flop? ¿Qué es Rmax y Rpeak?\n",
    "\n",
    "Flop es una abreviatura de FLoating-point OPeration, que significa \"operación en punto flotante\". Se refiere a una operación aritmética realizada en números de punto flotante, como suma, resta, multiplicación o división.\n",
    "\n",
    "El rendimiento de una computadora en términos de operaciones de punto flotante se mide en FLOP/s (FLoating-point Operations Per Second).\n",
    "\n",
    "Rmax es el rendimiento real obtenido al ejecutar un benchmark estandarizado, generalmente el LINPACK Benchmark. Representa el desempeño más alto registrado en pruebas reales y suele ser menor que RpeakRpeak​ debido a limitaciones en la memoria, comunicación entre procesadores y eficiencia de los algoritmos.\n",
    "\n",
    "En el Top500, la lista de las supercomputadoras más rápidas del mundo, se usa RmaxRmax​ para clasificar los sistemas.\n",
    "\n",
    "Rpeak es el rendimiento máximo que el hardware de una supercomputadora podría alcanzar en condiciones ideales. \n",
    "Se calcula como:\n",
    "\n",
    "$$\n",
    "R_{peak} = Num\\_nucleos \\times Frecuencia \\times op\\_por\\_ciclo\n",
    "$$\n",
    "\n",
    "Rmax es el rendimiento real obtenido al ejecutar un benchmark estandarizado, generalmente el LINPACK Benchmark. Representa el desempeño más alto registrado en pruebas reales y suele ser menor que Rpeak​ debido a limitaciones en la memoria, comunicación entre procesadores y eficiencia de los algoritmos.\n"
   ]
  },
  {
   "cell_type": "markdown",
   "metadata": {},
   "source": [
    "### 2. ¿Cuál es la supercomputadora que lidera el TOP500? ¿Cuáles son sus especificaciones?\n",
    "\n",
    "La super computadora que lidera el TOP500 de supercomputadoras es **\"El capitan\"**, la cual se ubica en Lawerence Livermore National Laboratory en Estados Unidos.\n",
    "\n",
    "Especificaciones:\n",
    "\n",
    "* Arquitectura: HPE Cray EX225a\n",
    "* Procesadores (CPU): 43,808 unidades de AMD EPYC de 4a generacion, cada una con 24 nucleos a 1.8 GHz.\n",
    "* Aceleradores (GPU): 43,808 unidades de AMD Instict MI300A, cada una con 28 nucleos.\n",
    "* Rendimiento maximo teorico (Rpeak): 2.746 exaFLOPS\n",
    "* Rendimiento maximo medido (Rmax)L 1.742 exaFLOPS\n",
    "* Memoria: 5.4375 pentabytes\n",
    "* Interconexion: HPE Slingshot-11\n",
    "* Consumo de energia: 30 megavoltios\n",
    "* SO: TOSS"
   ]
  },
  {
   "cell_type": "markdown",
   "metadata": {},
   "source": [
    "### ¿Cuáles son los 5 vendedores que lideran el TOP500?\n",
    "\n",
    "* Hewlett Packard Enterprise (HPE):\n",
    "* Lenovo\n",
    "* Inspur\n",
    "* Sugon\n",
    "* NVIDIA"
   ]
  },
  {
   "cell_type": "markdown",
   "metadata": {},
   "source": [
    "### ¿Cuáles son los países que dominan el TOP500?\n",
    "\n",
    "* United States\n",
    "* Italy\n",
    "* Japan\n",
    "* Switzerland\n",
    "* Finland"
   ]
  },
  {
   "cell_type": "markdown",
   "metadata": {},
   "source": [
    "### ¿Cuál es la familia de sistema operativo que usan las computadoras del TOP500?\n",
    "\n",
    "Linux, ya que TOSS, HPE Cray OS, CentOS entre otros son distribuciones de Linux"
   ]
  },
  {
   "cell_type": "markdown",
   "metadata": {},
   "source": [
    "### ¿Cómo se llamó la primera supercomputadora de la UNAM? ¿Cuáles eran sus especificaciones?\n",
    "\n",
    "CRAY Y-MP4/432, sus especificaciones son:\n",
    "\n",
    "* 4 procesadores vectoriales\n",
    "* 32 millones de palabras de memoria\n",
    "* 1.16 GFlops/s de Rmax\n",
    "* 1.33 GFlops/s de Rpeak\n",
    "* Velocidad de reloj de 8.5 nanosegundos\n",
    "* Sistema operativo UNICOS basado en Linux\n",
    "\n"
   ]
  },
  {
   "cell_type": "markdown",
   "metadata": {},
   "source": [
    "### ¿Cuál son las especificaciones de Miztli? ¿Cuántos años tiene?\n",
    "Miztli fue inaugurada en 2013, por lo que tiene 13 años, sus especificaciones son:\n",
    "\n",
    "*332 nodos de cómputo HP Proliant SL230 y SL250.\n",
    "* Dos procesadores Intel Xeon por nodo.\n",
    "* 5312 núcleos totales de procesamiento.\n",
    "* Capacidad de 118 Teraflop/s.\n",
    "* 16 GPUs NVIDIA M2090.\n",
    "* 23 Terabytes.\n",
    "* RedHat Enterprise Linux \n",
    "\n",
    "\n"
   ]
  },
  {
   "cell_type": "markdown",
   "metadata": {},
   "source": [
    "###  La Facultad de Ciencias de la UNAM tiene un Taller de Cómputo de Alto Rendimiento, que cuenta con equipo de cómputo para académicos de la facultad,¿cuáles son sus especificaciones? (pregúntenle a Mike)"
   ]
  },
  {
   "cell_type": "markdown",
   "metadata": {},
   "source": [
    "### ¿Qué es la tabla de procesos en Linux? ¿Qué es un proceso?\n",
    "\n",
    "Un proceso en Linux es una instancia de un programa en ejecución. Cada proceso tiene su propio espacio de memoria, recursos del sistema asignados y un identificador único llamado PID (Process ID).\n",
    "\n",
    "La tabla de procesos es una estructura de datos del kernel de Linux que mantiene información sobre todos los procesos que se están ejecutando en el sistema. Esta tabla es fundamental para el sistema operativo y contiene datos como:\n",
    "\n",
    "* PID (Process ID): Identificador único del proceso\n",
    "* Estado del proceso (ejecutando, dormido, zombie, etc.)\n",
    "* Prioridad\n",
    "* Proceso padre (PPID)\n",
    "* Usuario propietario\n",
    "* Memoria utilizada\n",
    "* Tiempo de CPU consumido\n",
    "* Directorio de trabajo\n",
    "* Archivos abiertos\n",
    "* Variables de entorno\n",
    "\n",
    "\n"
   ]
  },
  {
   "cell_type": "markdown",
   "metadata": {},
   "source": [
    "### ¿Cuál es la diferencia entre un hilo (thread) y un proceso?\n",
    "\n",
    "La diferencia principal entre un hilo (thread) y un proceso radica en cómo gestionan los recursos y la ejecución en un sistema operativo:\n",
    "Proceso\n",
    "\n",
    "* Es una instancia en ejecución de un programa.\n",
    "* Tiene su propio espacio de memoria (heap, stack, datos, código).\n",
    "* Se ejecuta de manera independiente y tiene su propio contexto de ejecución.\n",
    "* La comunicación entre procesos (IPC) es más costosa porque requieren mecanismos* como pipes, sockets o memoria compartida.\n",
    "* Un fallo en un proceso no afecta a otros procesos (salvo en casos específicos* como procesos padre-hijo).\n",
    "\n",
    "Hilo (Thread)\n",
    "\n",
    "* Es una unidad de ejecución dentro de un proceso.\n",
    "* Comparte el mismo espacio de memoria y recursos del proceso padre.\n",
    "* Los hilos de un mismo proceso pueden comunicarse fácilmente al compartir memoria, pero esto requiere sincronización para evitar condiciones de carrera.\n",
    "* Son más ligeros en términos de creación y cambio de contexto comparado con los procesos.\n",
    "* Un fallo en un hilo puede afectar a todo el proceso si corrompe memoria compartida."
   ]
  },
  {
   "cell_type": "markdown",
   "metadata": {},
   "source": [
    "### Cuántos procesadores (físicos y lógicos) tienes? ¿Cuál es la cantidad máxima de hilos que puede tener tu equipo de cómputo?"
   ]
  },
  {
   "cell_type": "markdown",
   "metadata": {},
   "source": [
    "* Procesadores logicos: 8\n",
    "* Cantidad maxima de hilos: 8\n",
    "* Procesadores fisicos: Tengo 4 nucleos por socket y 1 socket, por lo tanto tengo 4 nucleos.\n"
   ]
  },
  {
   "cell_type": "markdown",
   "metadata": {},
   "source": [
    "### Escribe una función en Python que reciba como entrada dos números enteros: n (la cantidad de filas) y m (la cantidad de columnas). El programa debe de realizar una cuadrícula como la que se ve en la figura 1"
   ]
  },
  {
   "cell_type": "code",
   "execution_count": 1,
   "metadata": {},
   "outputs": [
    {
     "name": "stdout",
     "output_type": "stream",
     "text": [
      "+ - - - + - - - +\n",
      "|       |       |\n",
      "|       |       |\n",
      "|       |       |\n",
      "+ - - - + - - - +\n",
      "|       |       |\n",
      "|       |       |\n",
      "|       |       |\n",
      "+ - - - + - - - +\n"
     ]
    }
   ],
   "source": [
    "def dibujar_cuadricula(n, m):\n",
    "    horizontal = \"+ \" + \"- \" * 3\n",
    "    vertical = \"| \" + \"  \" * 3\n",
    "\n",
    "    for i in range(n):\n",
    "        print((horizontal * m) + \"+\") \n",
    "        for _ in range(3):  \n",
    "            print((vertical * m) + \"|\")\n",
    "\n",
    "    print((horizontal * m) + \"+\")  \n",
    "\n",
    "dibujar_cuadricula(2, 2)\n"
   ]
  },
  {
   "attachments": {
    "image.png": {
     "image/png": "[encoded data removed]"
    }
   },
   "cell_type": "markdown",
   "metadata": {},
   "source": [
    "Capturas resultado programa C:\n",
    "\n",
    "![image.png](attachment:image.png)"
   ]
  },
  {
   "cell_type": "markdown",
   "metadata": {},
   "source": []
  }
 ],
 "metadata": {
  "kernelspec": {
   "display_name": "Python 3",
   "language": "python",
   "name": "python3"
  },
  "language_info": {
   "codemirror_mode": {
    "name": "ipython",
    "version": 3
   },
   "file_extension": ".py",
   "mimetype": "text/x-python",
   "name": "python",
   "nbconvert_exporter": "python",
   "pygments_lexer": "ipython3",
   "version": "3.10.11"
  }
 },
 "nbformat": 4,
 "nbformat_minor": 2
}
