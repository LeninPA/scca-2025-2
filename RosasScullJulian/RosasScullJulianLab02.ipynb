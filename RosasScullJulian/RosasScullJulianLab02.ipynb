{
 "cells": [
  {
   "cell_type": "markdown",
   "metadata": {},
   "source": [
    "### 1. ¿Qué significa Atócatl?\n",
    "\n",
    " El nombre con el que se bautizó tiene origen náhuatl y significa pulpo."
   ]
  },
  {
   "cell_type": "markdown",
   "metadata": {},
   "source": [
    "### 2. ¿Cuántos años tiene el equipo?\n",
    "\n",
    "Se inauguro en el 2011, por lo tanto tiene 14 años."
   ]
  },
  {
   "cell_type": "markdown",
   "metadata": {},
   "source": [
    "### 3. ¿Cuántos nodos tiene Atócatl? ¿Qué funciones tiene cada nodo?\n",
    "\n"
   ]
  },
  {
   "cell_type": "markdown",
   "metadata": {},
   "source": [
    "### 4. Cuáles son las especificaciones de Atócatl?\n",
    "\n",
    "* Tiene mas de 288 microprocesadores de CPU\n",
    "* 200 terabytes de almacenamiento\n",
    "* Usa clusters tipo GPU (8 en total)"
   ]
  },
  {
   "cell_type": "markdown",
   "metadata": {},
   "source": [
    "### 5. ¿Qué dispositivos de almacenamiento tiene Atócatl?\n",
    "\n",
    "Caches, discos duros"
   ]
  },
  {
   "cell_type": "markdown",
   "metadata": {},
   "source": [
    "### 6.  ¿Se respalda toda la información? ¿Por qué? "
   ]
  },
  {
   "cell_type": "markdown",
   "metadata": {},
   "source": [
    "### 7. Qué tipo de conexiones tiene Atócatl? ¿Por qué?\n",
    "\n",
    "Tiene conexiones de fibra optica para hacer instantanea la comunicacion"
   ]
  },
  {
   "cell_type": "markdown",
   "metadata": {},
   "source": [
    "### 8. Todas las unidades de procesamiento que tiene Atócatl son CPU?\n",
    "\n",
    "No, tambien contiene GPUs"
   ]
  },
  {
   "cell_type": "markdown",
   "metadata": {},
   "source": [
    "### 9. Cómo se diferencía el uso de memoria en una CPU a comparación de una GPU?\n",
    "\n",
    "CPU al ejecutar tareas de manera secuencial usa una jerarquia de memoria para su acceso rapido y eficiente, tal como RAM, caches y almacenamiento en disco duro como HDD y SSD. Por otra parte, la GPU esta regida bajo el concepto de memoria compartida, en la cual varios varios datos son manejados de manera paralela, tales estructuras son como VRAM, Registros, etc."
   ]
  },
  {
   "cell_type": "markdown",
   "metadata": {},
   "source": [
    "### 10. ¿Cuál es la diferencia entre usar una GPU y usar varios procesadores tipo CPU con MPI?\n",
    "\n",
    "PAra la GPU, la comunicación entre núcleos es extremadamente rápida porque está dentro de la misma tarjeta, pero la transferencia de datos entre la GPU y la CPU (memoria RAM y VRAM) es un cuello de botella. Mientras que para MPI  La comunicación entre procesadores puede ser un problema si hay mucha transferencia de datos entre nodos, especialmente si usan una red lenta."
   ]
  },
  {
   "cell_type": "markdown",
   "metadata": {},
   "source": [
    "### 11. ¿Qué tipos de problemas puedes resolver con OpenMP?\n",
    "\n",
    "Funciona en entornos de memoria compartida (todos los hilos acceden a la misma memoria)."
   ]
  },
  {
   "cell_type": "markdown",
   "metadata": {},
   "source": [
    "### 12. ¿Qué tipos de problemas puedes resolver con MPI?\n",
    "\n",
    "Problemas que involucren memoria distribuida."
   ]
  },
  {
   "cell_type": "markdown",
   "metadata": {},
   "source": [
    "### 13. ¿Qué tipos de problemas puedes resolver con CUDA?\n",
    "\n",
    " CUDA es ideal para problemas que pueden dividirse en miles o millones de pequeñas tareas independientes, aprovechando los múltiples núcleos de la GPU."
   ]
  },
  {
   "cell_type": "markdown",
   "metadata": {},
   "source": [
    "### 4.1"
   ]
  },
  {
   "cell_type": "markdown",
   "metadata": {},
   "source": [
    "Teniendo el programa que se encuentra en raiz_cuadrada.py, y el problema quedaria en SSID (problema secuencial), ya que cada iteración depende del resultado de la iteración anterior. Por lo tanto, este problema cae en la categoría SISD. Por lo tanto el problema es secuencial y no paralelizable. En caso de que se tengan varios numeros a los cuales se les deba sacar raiz cuadrada, el problema se vuelve paralelizable y en particular MIMD."
   ]
  },
  {
   "cell_type": "markdown",
   "metadata": {},
   "source": [
    "### Resumen platica Aceleracion de Simulaciones neuronales con aprendizaje de maquina en sistemas distribuidos\n",
    "\n",
    "\n",
    "El objetivo del proyecto era desarrollar la implementación de operadores neuronales en paralelo para acelerar simulaciones de sistemas astrofísicos complejos. Estos sistemas, que involucran dinámicas de fluidos y otros fenómenos físicos, requieren un procesamiento intensivo debido a la gran cantidad de datos y cálculos involucrados. Los resultados esperados eran explorar y entender la capacidad de los módulos para ejecutarse en varias tarjetas GPU, así como manejar grandes cantidades de memoria y recursos computacionales. Por ejemplo, se trabajó en el operador neuronal de Fourier aplicado a las ecuaciones de Navier-Stokes, especialmente en situaciones con números de Reynolds altos, donde las turbulencias y flujos complejos representan desafíos significativos.\n",
    "\n",
    "Durante la presentación del proyecto, se discutieron las dificultades encontradas al llevar a cabo un proyecto con una codebase poco documentada, lo que generó una curva de aprendizaje pronunciada para el equipo. Además, surgieron problemas inesperados asociados a las tarjetas AMD, que complicaron el rendimiento y la integración del sistema. Estas dificultades técnicas llevaron a replantear algunos enfoques y estrategias al igual que aprendizaje.\n",
    "\n",
    "De igual manera, se adoptó el código para que pudiera ejecutarse en entornos de computación de alto rendimiento (HPC), como Atocatl y GRID, lo que permitió aprovechar mejor los recursos disponibles y mejorar la eficiencia del procesamiento. \n",
    "\n",
    "Finalmente, los entregables fueron benchmarks de RCLL, entornos de conda y archivos de deinicion para la replicabilidad de las bases de codigos, scripts y archivos condor para el envio del codigo a entornos HPC al igual que una coautoria por parte de Lenin."
   ]
  }
 ],
 "metadata": {
  "kernelspec": {
   "display_name": "Python 3",
   "language": "python",
   "name": "python3"
  },
  "language_info": {
   "codemirror_mode": {
    "name": "ipython",
    "version": 3
   },
   "file_extension": ".py",
   "mimetype": "text/x-python",
   "name": "python",
   "nbconvert_exporter": "python",
   "pygments_lexer": "ipython3",
   "version": "3.10.11"
  }
 },
 "nbformat": 4,
 "nbformat_minor": 2
}
